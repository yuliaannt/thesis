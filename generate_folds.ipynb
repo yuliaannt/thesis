{
 "cells": [
  {
   "cell_type": "code",
   "execution_count": 6,
   "id": "a399eedd",
   "metadata": {},
   "outputs": [],
   "source": [
    "import pandas as pd\n",
    "from sklearn.model_selection import StratifiedKFold, train_test_split\n",
    "import os"
   ]
  },
  {
   "cell_type": "code",
   "execution_count": 7,
   "id": "55c82c39",
   "metadata": {},
   "outputs": [],
   "source": [
    "# Path input/output\n",
    "input_path = '../data/tokenized/tokenized_data.csv'\n",
    "output_dir = '../data/folds/'"
   ]
  },
  {
   "cell_type": "code",
   "execution_count": 8,
   "id": "60fb5515",
   "metadata": {},
   "outputs": [],
   "source": [
    "df = pd.read_csv(input_path)\n",
    "\n",
    "required_cols = ['text', 'aspect', 'sentimen', 'stemmed_text', 'input_ids', 'attention_mask', 'token_type_ids']\n",
    "missing_cols = [col for col in required_cols if col not in df.columns]\n",
    "if missing_cols:\n",
    "    raise ValueError(f\"Kolom berikut tidak ditemukan: {missing_cols}\")\n",
    "\n",
    "df['sentimen'] = df['sentimen'].astype(str)\n"
   ]
  },
  {
   "cell_type": "code",
   "execution_count": 11,
   "id": "bb67bb09",
   "metadata": {},
   "outputs": [
    {
     "name": "stdout",
     "output_type": "stream",
     "text": [
      "✅ Fold-0 selesai → Train: 4786 | Val: 532 | Test: 591\n",
      "✅ Fold-1 selesai → Train: 4786 | Val: 532 | Test: 591\n",
      "✅ Fold-2 selesai → Train: 4786 | Val: 532 | Test: 591\n",
      "✅ Fold-3 selesai → Train: 4786 | Val: 532 | Test: 591\n",
      "✅ Fold-4 selesai → Train: 4786 | Val: 532 | Test: 591\n",
      "✅ Fold-5 selesai → Train: 4786 | Val: 532 | Test: 591\n",
      "✅ Fold-6 selesai → Train: 4786 | Val: 532 | Test: 591\n",
      "✅ Fold-7 selesai → Train: 4786 | Val: 532 | Test: 591\n",
      "✅ Fold-8 selesai → Train: 4786 | Val: 532 | Test: 591\n",
      "✅ Fold-9 selesai → Train: 4787 | Val: 532 | Test: 590\n"
     ]
    }
   ],
   "source": [
    "skf = StratifiedKFold(n_splits=10, shuffle=True, random_state=42)\n",
    "\n",
    "for fold, (train_idx, test_idx) in enumerate(skf.split(df, df['sentimen'])):\n",
    "    train_val_df = df.iloc[train_idx]  # 90%\n",
    "    test_df = df.iloc[test_idx]         # 10% (sebagai test)\n",
    "    \n",
    "    # Dari train_val_df, ambil 10% sebagai dev/val\n",
    "    train_df, val_df = train_test_split(\n",
    "        train_val_df,\n",
    "        test_size=0.1,\n",
    "        stratify=train_val_df['sentimen'],\n",
    "        random_state=42\n",
    "    )\n",
    "    \n",
    "    # Simpan\n",
    "    train_df.to_csv(f\"{output_dir}train_fold_{fold}.csv\", index=False)\n",
    "    val_df.to_csv(f\"{output_dir}val_fold_{fold}.csv\", index=False)\n",
    "    test_df.to_csv(f\"{output_dir}test_fold_{fold}.csv\", index=False)  # val sebagai evaluasi utama fold\n",
    "\n",
    "    print(f\"✅ Fold-{fold} selesai → Train: {len(train_df)} | Val: {len(val_df)} | Test: {len(test_df)}\")\n"
   ]
  }
 ],
 "metadata": {
  "kernelspec": {
   "display_name": "Python 3",
   "language": "python",
   "name": "python3"
  },
  "language_info": {
   "codemirror_mode": {
    "name": "ipython",
    "version": 3
   },
   "file_extension": ".py",
   "mimetype": "text/x-python",
   "name": "python",
   "nbconvert_exporter": "python",
   "pygments_lexer": "ipython3",
   "version": "3.11.8"
  }
 },
 "nbformat": 4,
 "nbformat_minor": 5
}
